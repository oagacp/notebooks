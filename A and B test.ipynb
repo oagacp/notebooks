{
 "cells": [
  {
   "cell_type": "markdown",
   "id": "05022b3c",
   "metadata": {},
   "source": [
    "## <center>A/B test Privacy, and Online Regression</center>"
   ]
  },
  {
   "cell_type": "markdown",
   "id": "5edc6327",
   "metadata": {},
   "source": [
    "A/B test or randomized controlled trials is a technique to understand and analize the effect of some events or treatments are true. So to perform this A/B test will need to get two groups random build where one of them is the control group , possible apllying placebo, and the second apply the event or the treatment. The idea of this test, is to calculate if the difference of the groups are for chance or really the event or the treatment works. Therefore first we should stablish a Hypothesis H0, where assume there is no difference and Hypothesis H1 where supposed the difference is true and due to the event or the treatment.\n",
    "The inference statistics comes to help us, with a lot of theory and different type of tools depending of which kind of variables we are working on and the relationship between them and python that makes our life easier to offer libraries with all of this test ready to use.\n",
    "\n",
    "This example is taken from Matteo Courthoud and modify a little to accomplish the assumtions of the t-test, to perform a regression and random forest using random grid to get the best parameters."
   ]
  },
  {
   "cell_type": "markdown",
   "id": "64ad6a39",
   "metadata": {},
   "source": [
    "A Simple Example\n",
    "\n",
    "Suppose we were a fin-tech company. We have designed a new user interface (UI) for our mobile application and we would like to understand whether it slows down our transactions. In order to estimate the causal effect of the new UI on transaction speed, we plan to run an A/B test or randomized controlled trial: we split users into two groups at random, to one group we show the new UI, and we compare the average transaction speed across the two groups.\n",
    "\n",
    "First, let’s have a look at the data. I used the jupiter notebbok of https://github.com/matteocourthoud to recreate and modify the analysis."
   ]
  },
  {
   "cell_type": "markdown",
   "id": "30ef0bbb",
   "metadata": {},
   "source": [
    "## Table of Contents\n",
    "\n",
    "1. <a href=\"#item1\">Generate, explore and plot the data</a>\n",
    "2. <a href=\"#item2\">Checking the assumptions</a>  \n",
    "3. <a href=\"#item3\">Linear regression model</a>  \n",
    "4. <a href=\"#item4\">Random Forest model</a>  \n",
    "5. <a href=\"#item5\">Conclusions</a> "
   ]
  },
  {
   "cell_type": "markdown",
   "id": "51f3e99b",
   "metadata": {},
   "source": [
    "<a id=\"item1\"></a>"
   ]
  },
  {
   "cell_type": "markdown",
   "id": "48c4dd3a",
   "metadata": {},
   "source": [
    "### 1.- Generate, explore and plot the data"
   ]
  },
  {
   "cell_type": "code",
   "execution_count": 1,
   "id": "1f49813d",
   "metadata": {},
   "outputs": [
    {
     "name": "stdout",
     "output_type": "stream",
     "text": [
      "Libraries imported!!!\n"
     ]
    }
   ],
   "source": [
    "# First import some libraries\n",
    "\n",
    "import numpy as np\n",
    "import scipy as sp\n",
    "import pandas as pd\n",
    "\n",
    "print(\"Libraries imported!!!\")"
   ]
  },
  {
   "cell_type": "code",
   "execution_count": 2,
   "id": "8d11fe76",
   "metadata": {},
   "outputs": [],
   "source": [
    "# Generate the data that we will use.\n",
    "\n",
    "class dgp_credit():\n",
    "    \"\"\"\n",
    "    Data Generating Process: credit cards\n",
    "    \"\"\"\n",
    "\n",
    "    def generate_data(self, N = 100, seed=0):\n",
    "        np.random.seed(seed)\n",
    "        \n",
    "        # Connection speed\n",
    "        connection = np.random.lognormal(3, 1, N)\n",
    "        \n",
    "        # Treatment assignment\n",
    "        newUI = np.random.binomial(1, 0.5, N)\n",
    "        \n",
    "        # Transfer speed\n",
    "        #transfer = np.minimum(np.random.exponential(10 + 4*newUI - 0.5*np.sqrt(connection), N), connection)\n",
    "        transfer = np.minimum(np.random.lognormal(2.8 + newUI, 1, N), connection)\n",
    "        \n",
    "        # Generate the dataframe\n",
    "        df = pd.DataFrame({'newUI': newUI,  \n",
    "                           'connection': np.round(connection,2), \n",
    "                           'transfer': np.round(transfer,2)})\n",
    "\n",
    "        return df"
   ]
  },
  {
   "cell_type": "markdown",
   "id": "14bde2bc",
   "metadata": {},
   "source": [
    "First, I generate the whole dataset to analize it."
   ]
  },
  {
   "cell_type": "code",
   "execution_count": 3,
   "id": "876e6acf",
   "metadata": {},
   "outputs": [
    {
     "name": "stdout",
     "output_type": "stream",
     "text": [
      "<class 'pandas.core.frame.DataFrame'>\n",
      "RangeIndex: 100 entries, 0 to 99\n",
      "Data columns (total 3 columns):\n",
      " #   Column      Non-Null Count  Dtype  \n",
      "---  ------      --------------  -----  \n",
      " 0   newUI       100 non-null    int32  \n",
      " 1   connection  100 non-null    float64\n",
      " 2   transfer    100 non-null    float64\n",
      "dtypes: float64(2), int32(1)\n",
      "memory usage: 2.1 KB\n"
     ]
    }
   ],
   "source": [
    "N = 100\n",
    "df = dgp_credit.generate_data(N)\n",
    "df.info()"
   ]
  },
  {
   "cell_type": "code",
   "execution_count": 4,
   "id": "b88508e8",
   "metadata": {},
   "outputs": [
    {
     "data": {
      "text/html": [
       "<div>\n",
       "<style scoped>\n",
       "    .dataframe tbody tr th:only-of-type {\n",
       "        vertical-align: middle;\n",
       "    }\n",
       "\n",
       "    .dataframe tbody tr th {\n",
       "        vertical-align: top;\n",
       "    }\n",
       "\n",
       "    .dataframe thead th {\n",
       "        text-align: right;\n",
       "    }\n",
       "</style>\n",
       "<table border=\"1\" class=\"dataframe\">\n",
       "  <thead>\n",
       "    <tr style=\"text-align: right;\">\n",
       "      <th></th>\n",
       "      <th>newUI</th>\n",
       "      <th>connection</th>\n",
       "      <th>transfer</th>\n",
       "    </tr>\n",
       "  </thead>\n",
       "  <tbody>\n",
       "    <tr>\n",
       "      <th>count</th>\n",
       "      <td>51.0</td>\n",
       "      <td>51.000000</td>\n",
       "      <td>51.000000</td>\n",
       "    </tr>\n",
       "    <tr>\n",
       "      <th>mean</th>\n",
       "      <td>1.0</td>\n",
       "      <td>36.809412</td>\n",
       "      <td>23.661961</td>\n",
       "    </tr>\n",
       "    <tr>\n",
       "      <th>std</th>\n",
       "      <td>0.0</td>\n",
       "      <td>40.720196</td>\n",
       "      <td>30.638574</td>\n",
       "    </tr>\n",
       "    <tr>\n",
       "      <th>min</th>\n",
       "      <td>1.0</td>\n",
       "      <td>1.560000</td>\n",
       "      <td>1.560000</td>\n",
       "    </tr>\n",
       "    <tr>\n",
       "      <th>25%</th>\n",
       "      <td>1.0</td>\n",
       "      <td>9.235000</td>\n",
       "      <td>8.710000</td>\n",
       "    </tr>\n",
       "    <tr>\n",
       "      <th>50%</th>\n",
       "      <td>1.0</td>\n",
       "      <td>22.680000</td>\n",
       "      <td>14.020000</td>\n",
       "    </tr>\n",
       "    <tr>\n",
       "      <th>75%</th>\n",
       "      <td>1.0</td>\n",
       "      <td>42.315000</td>\n",
       "      <td>27.765000</td>\n",
       "    </tr>\n",
       "    <tr>\n",
       "      <th>max</th>\n",
       "      <td>1.0</td>\n",
       "      <td>194.370000</td>\n",
       "      <td>194.370000</td>\n",
       "    </tr>\n",
       "  </tbody>\n",
       "</table>\n",
       "</div>"
      ],
      "text/plain": [
       "       newUI  connection    transfer\n",
       "count   51.0   51.000000   51.000000\n",
       "mean     1.0   36.809412   23.661961\n",
       "std      0.0   40.720196   30.638574\n",
       "min      1.0    1.560000    1.560000\n",
       "25%      1.0    9.235000    8.710000\n",
       "50%      1.0   22.680000   14.020000\n",
       "75%      1.0   42.315000   27.765000\n",
       "max      1.0  194.370000  194.370000"
      ]
     },
     "execution_count": 4,
     "metadata": {},
     "output_type": "execute_result"
    }
   ],
   "source": [
    "df[df['newUI'] == 1].describe()"
   ]
  },
  {
   "cell_type": "code",
   "execution_count": 5,
   "id": "8fe6d414",
   "metadata": {},
   "outputs": [
    {
     "data": {
      "text/html": [
       "<div>\n",
       "<style scoped>\n",
       "    .dataframe tbody tr th:only-of-type {\n",
       "        vertical-align: middle;\n",
       "    }\n",
       "\n",
       "    .dataframe tbody tr th {\n",
       "        vertical-align: top;\n",
       "    }\n",
       "\n",
       "    .dataframe thead th {\n",
       "        text-align: right;\n",
       "    }\n",
       "</style>\n",
       "<table border=\"1\" class=\"dataframe\">\n",
       "  <thead>\n",
       "    <tr style=\"text-align: right;\">\n",
       "      <th></th>\n",
       "      <th>newUI</th>\n",
       "      <th>connection</th>\n",
       "      <th>transfer</th>\n",
       "    </tr>\n",
       "  </thead>\n",
       "  <tbody>\n",
       "    <tr>\n",
       "      <th>count</th>\n",
       "      <td>49.0</td>\n",
       "      <td>49.000000</td>\n",
       "      <td>49.000000</td>\n",
       "    </tr>\n",
       "    <tr>\n",
       "      <th>mean</th>\n",
       "      <td>0.0</td>\n",
       "      <td>32.778571</td>\n",
       "      <td>14.053265</td>\n",
       "    </tr>\n",
       "    <tr>\n",
       "      <th>std</th>\n",
       "      <td>0.0</td>\n",
       "      <td>36.199891</td>\n",
       "      <td>11.026545</td>\n",
       "    </tr>\n",
       "    <tr>\n",
       "      <th>min</th>\n",
       "      <td>0.0</td>\n",
       "      <td>3.650000</td>\n",
       "      <td>1.780000</td>\n",
       "    </tr>\n",
       "    <tr>\n",
       "      <th>25%</th>\n",
       "      <td>0.0</td>\n",
       "      <td>13.420000</td>\n",
       "      <td>6.260000</td>\n",
       "    </tr>\n",
       "    <tr>\n",
       "      <th>50%</th>\n",
       "      <td>0.0</td>\n",
       "      <td>21.470000</td>\n",
       "      <td>11.950000</td>\n",
       "    </tr>\n",
       "    <tr>\n",
       "      <th>75%</th>\n",
       "      <td>0.0</td>\n",
       "      <td>31.910000</td>\n",
       "      <td>16.360000</td>\n",
       "    </tr>\n",
       "    <tr>\n",
       "      <th>max</th>\n",
       "      <td>0.0</td>\n",
       "      <td>188.840000</td>\n",
       "      <td>52.060000</td>\n",
       "    </tr>\n",
       "  </tbody>\n",
       "</table>\n",
       "</div>"
      ],
      "text/plain": [
       "       newUI  connection   transfer\n",
       "count   49.0   49.000000  49.000000\n",
       "mean     0.0   32.778571  14.053265\n",
       "std      0.0   36.199891  11.026545\n",
       "min      0.0    3.650000   1.780000\n",
       "25%      0.0   13.420000   6.260000\n",
       "50%      0.0   21.470000  11.950000\n",
       "75%      0.0   31.910000  16.360000\n",
       "max      0.0  188.840000  52.060000"
      ]
     },
     "execution_count": 5,
     "metadata": {},
     "output_type": "execute_result"
    }
   ],
   "source": [
    "df[df['newUI'] == 0].describe()"
   ]
  },
  {
   "cell_type": "markdown",
   "id": "4c244134",
   "metadata": {},
   "source": [
    "We can observe the number of the users is different between the two groups and the standard deviation for transfer variable is very different. \n",
    "Now I will analize the distribution of the features and the outcome."
   ]
  },
  {
   "cell_type": "code",
   "execution_count": 6,
   "id": "e45f9e31",
   "metadata": {},
   "outputs": [
    {
     "name": "stdout",
     "output_type": "stream",
     "text": [
      "Libraries imported!!!\n"
     ]
    }
   ],
   "source": [
    "# More libraries\n",
    "import matplotlib.pyplot as plt\n",
    "import seaborn as sns\n",
    "\n",
    "print(\"Libraries imported!!!\")"
   ]
  },
  {
   "cell_type": "markdown",
   "id": "2ca7878b",
   "metadata": {},
   "source": [
    "Plotting the features and variables"
   ]
  },
  {
   "cell_type": "code",
   "execution_count": 7,
   "id": "be28ab78",
   "metadata": {},
   "outputs": [
    {
     "name": "stderr",
     "output_type": "stream",
     "text": [
      "C:\\Users\\ODIN\\anaconda3\\lib\\site-packages\\seaborn\\distributions.py:2619: FutureWarning: `distplot` is a deprecated function and will be removed in a future version. Please adapt your code to use either `displot` (a figure-level function with similar flexibility) or `histplot` (an axes-level function for histograms).\n",
      "  warnings.warn(msg, FutureWarning)\n"
     ]
    },
    {
     "data": {
      "text/plain": [
       "Text(0, 0.5, 'Density')"
      ]
     },
     "execution_count": 7,
     "metadata": {},
     "output_type": "execute_result"
    },
    {
     "data": {
      "image/png": "[encoded data removed]",
      "text/plain": [
       "<Figure size 432x288 with 1 Axes>"
      ]
     },
     "metadata": {
      "needs_background": "light"
     },
     "output_type": "display_data"
    }
   ],
   "source": [
    "df_0 = df[df['newUI'] == 0]\n",
    "sns.distplot(df_0['connection'],  kde=False, label='No NewUI')\n",
    "\n",
    "df_1 = df[df['newUI'] == 1]\n",
    "sns.distplot(df_1['connection'],  kde=False,label='NewUI')\n",
    "\n",
    "plt.legend(prop={'size': 12})\n",
    "plt.title('Connection distribution')\n",
    "plt.xlabel('Time')\n",
    "plt.ylabel('Density')"
   ]
  },
  {
   "cell_type": "markdown",
   "id": "9cc39b9d",
   "metadata": {},
   "source": [
    "As we can see the shape is similar for both groups"
   ]
  },
  {
   "cell_type": "code",
   "execution_count": 8,
   "id": "2c2bb212",
   "metadata": {
    "scrolled": true
   },
   "outputs": [
    {
     "data": {
      "text/plain": [
       "Text(0, 0.5, 'Density')"
      ]
     },
     "execution_count": 8,
     "metadata": {},
     "output_type": "execute_result"
    },
    {
     "data": {
      "image/png": "[encoded data removed]",
      "text/plain": [
       "<Figure size 432x288 with 1 Axes>"
      ]
     },
     "metadata": {
      "needs_background": "light"
     },
     "output_type": "display_data"
    }
   ],
   "source": [
    "sns.distplot(df_0['transfer'],  kde=False, label='No NewUI')\n",
    "sns.distplot(df_1['transfer'],  kde=False,label='NewUI')\n",
    "\n",
    "plt.legend(prop={'size': 12})\n",
    "plt.title('Outcome: Transfer distribution')\n",
    "plt.xlabel('Time')\n",
    "plt.ylabel('Density')"
   ]
  },
  {
   "cell_type": "code",
   "execution_count": 9,
   "id": "a5562eea",
   "metadata": {},
   "outputs": [
    {
     "name": "stderr",
     "output_type": "stream",
     "text": [
      "No handles with labels found to put in legend.\n"
     ]
    },
    {
     "data": {
      "text/plain": [
       "Text(0, 0.5, 'Count')"
      ]
     },
     "execution_count": 9,
     "metadata": {},
     "output_type": "execute_result"
    },
    {
     "data": {
      "image/png": "[encoded data removed]",
      "text/plain": [
       "<Figure size 432x288 with 1 Axes>"
      ]
     },
     "metadata": {
      "needs_background": "light"
     },
     "output_type": "display_data"
    }
   ],
   "source": [
    "sns.histplot(data = df, x = \"newUI\")\n",
    "\n",
    "plt.legend(prop={'size': 12})\n",
    "\n",
    "plt.title('New UI distribution')\n",
    "\n",
    "plt.xlabel('Type of UI')\n",
    "\n",
    "plt.ylabel('Count')"
   ]
  },
  {
   "cell_type": "markdown",
   "id": "1ae2f598",
   "metadata": {},
   "source": [
    "In both cases, the variable connection and the dependent variable transfer are not normal distributed, so we will transform the variables to accomplish the assumptions and apply t-test to check if the difference in mean is statistically significant.\n",
    "\n",
    "First I will use the log transformation and check the distributions."
   ]
  },
  {
   "cell_type": "code",
   "execution_count": 10,
   "id": "79ab3195",
   "metadata": {},
   "outputs": [],
   "source": [
    "df['connection_log'] = np.log(df['connection'])\n",
    "df['transfer_log'] = np.log(df['transfer'])\n",
    "df_0 = df[df['newUI'] == 0]\n",
    "df_1 = df[df['newUI'] == 1]"
   ]
  },
  {
   "cell_type": "code",
   "execution_count": 11,
   "id": "41b12f16",
   "metadata": {},
   "outputs": [
    {
     "name": "stderr",
     "output_type": "stream",
     "text": [
      "C:\\Users\\ODIN\\anaconda3\\lib\\site-packages\\seaborn\\distributions.py:2619: FutureWarning: `distplot` is a deprecated function and will be removed in a future version. Please adapt your code to use either `displot` (a figure-level function with similar flexibility) or `histplot` (an axes-level function for histograms).\n",
      "  warnings.warn(msg, FutureWarning)\n"
     ]
    },
    {
     "data": {
      "text/plain": [
       "Text(0, 0.5, 'Density')"
      ]
     },
     "execution_count": 11,
     "metadata": {},
     "output_type": "execute_result"
    },
    {
     "data": {
      "image/png": "[encoded data removed]",
      "text/plain": [
       "<Figure size 432x288 with 1 Axes>"
      ]
     },
     "metadata": {
      "needs_background": "light"
     },
     "output_type": "display_data"
    }
   ],
   "source": [
    "sns.distplot(df_0['connection_log'],  kde=False, label='No NewUI')\n",
    "sns.distplot(df_1['connection_log'],  kde=False,label='NewUI')\n",
    "\n",
    "plt.legend(prop={'size': 12})\n",
    "plt.title('Connection_log distribution')\n",
    "plt.xlabel('Time')\n",
    "plt.ylabel('Density')"
   ]
  },
  {
   "cell_type": "code",
   "execution_count": 12,
   "id": "04ee5980",
   "metadata": {},
   "outputs": [
    {
     "data": {
      "text/plain": [
       "Text(0, 0.5, 'Density')"
      ]
     },
     "execution_count": 12,
     "metadata": {},
     "output_type": "execute_result"
    },
    {
     "data": {
      "image/png": "[encoded data removed]",
      "text/plain": [
       "<Figure size 432x288 with 1 Axes>"
      ]
     },
     "metadata": {
      "needs_background": "light"
     },
     "output_type": "display_data"
    }
   ],
   "source": [
    "sns.distplot(df_0['transfer_log'],  kde=False, label='No NewUI')\n",
    "sns.distplot(df_1['transfer_log'],  kde=False,label='NewUI')\n",
    "\n",
    "plt.legend(prop={'size': 12})\n",
    "plt.title('Transfer distribution')\n",
    "plt.xlabel('Time')\n",
    "plt.ylabel('Density')"
   ]
  },
  {
   "cell_type": "markdown",
   "id": "a10476fb",
   "metadata": {},
   "source": [
    "voilà! it seem the distributions are normal using log transformation."
   ]
  },
  {
   "cell_type": "markdown",
   "id": "85855fc3",
   "metadata": {},
   "source": [
    "<a id=\"item2\"></a>"
   ]
  },
  {
   "cell_type": "markdown",
   "id": "ca5e0321",
   "metadata": {},
   "source": [
    "### 2.- Checking the assumptions "
   ]
  },
  {
   "cell_type": "markdown",
   "id": "c95c6728",
   "metadata": {},
   "source": [
    "There are three asumption to be met to use t-test or regression, the assumptions are:\n",
    "1. Are the two samples independent?\n",
    "2. Are the data from each of the 2 groups following a normal distribution?\n",
    "3. Do the two samples have the same variances (Homogeneity of Variance)?\n",
    "\n",
    "if we fail, there are others test to analize the data."
   ]
  },
  {
   "cell_type": "code",
   "execution_count": 22,
   "id": "37aa9af5",
   "metadata": {},
   "outputs": [
    {
     "name": "stdout",
     "output_type": "stream",
     "text": [
      "mean connection 0: 3.0634413072659448\n",
      "mean connection 1: 3.056230016547646\n",
      "mean transfer 0: 2.3644256093707994\n",
      "mean transfer 1: 2.7052214741969194\n",
      "differece transfer means: -0.34079586482612\n"
     ]
    }
   ],
   "source": [
    "# Calculating the mean for each groups\n",
    "connection_0_mean = df_0['connection_log'].mean()\n",
    "connection_1_mean = df_1['connection_log'].mean()\n",
    "transfer_0_mean = df_0['transfer_log'].mean()\n",
    "transfer_1_mean = df_1['transfer_log'].mean()\n",
    "print('mean connection 0:',connection_0_mean)\n",
    "print('mean connection 1:',connection_1_mean)\n",
    "print('mean transfer 0:',transfer_0_mean)\n",
    "print('mean transfer 1:',transfer_1_mean)\n",
    "print('differece transfer means:',transfer_0_mean - transfer_1_mean)"
   ]
  },
  {
   "cell_type": "markdown",
   "id": "9dc37d9b",
   "metadata": {},
   "source": [
    "To be sure about the normality and homogeneity of Variances assumptions, we will perform the Shapiro test and Levene’s test"
   ]
  },
  {
   "cell_type": "code",
   "execution_count": 13,
   "id": "5c1b4fdd",
   "metadata": {},
   "outputs": [],
   "source": [
    "# More libraries\n",
    "import scipy.stats as stats"
   ]
  },
  {
   "cell_type": "code",
   "execution_count": 14,
   "id": "b28c417c",
   "metadata": {},
   "outputs": [
    {
     "data": {
      "text/plain": [
       "ShapiroResult(statistic=0.9829994440078735, pvalue=0.6951248049736023)"
      ]
     },
     "execution_count": 14,
     "metadata": {},
     "output_type": "execute_result"
    }
   ],
   "source": [
    "stats.shapiro(df_0['transfer_log'].to_numpy())"
   ]
  },
  {
   "cell_type": "code",
   "execution_count": 15,
   "id": "1a0a449d",
   "metadata": {},
   "outputs": [
    {
     "data": {
      "text/plain": [
       "ShapiroResult(statistic=0.9900442957878113, pvalue=0.943730890750885)"
      ]
     },
     "execution_count": 15,
     "metadata": {},
     "output_type": "execute_result"
    }
   ],
   "source": [
    "stats.shapiro(df_1['transfer_log'].to_numpy())"
   ]
  },
  {
   "cell_type": "code",
   "execution_count": 16,
   "id": "d332291b",
   "metadata": {},
   "outputs": [
    {
     "data": {
      "text/plain": [
       "LeveneResult(statistic=1.0211352094172355, pvalue=0.3147383733854531)"
      ]
     },
     "execution_count": 16,
     "metadata": {},
     "output_type": "execute_result"
    }
   ],
   "source": [
    "stats.levene(df_0['transfer_log'].to_numpy(), df_1['transfer_log'].to_numpy(), center='mean')"
   ]
  },
  {
   "cell_type": "markdown",
   "id": "0424e07c",
   "metadata": {},
   "source": [
    "As p-value in both cases of shapiro test p-value > 0.05, where 0.05 is the cut off, there is enough evidence to not reject the null hypothesis, so the distribution is normal. \n",
    "The levere test tell us if the variances are the same, since p-value is greater than 0.05, so the variances are not significatlly different."
   ]
  },
  {
   "cell_type": "markdown",
   "id": "389985f0",
   "metadata": {},
   "source": [
    "<a id=\"item3\"></a>"
   ]
  },
  {
   "cell_type": "markdown",
   "id": "a7c87a1d",
   "metadata": {},
   "source": [
    "### 3.- Linear regression model"
   ]
  },
  {
   "cell_type": "markdown",
   "id": "6e9736e8",
   "metadata": {},
   "source": [
    "Following with the analysis, we will check if this difference in mean is for chance or statistically significant in dependent variable (transfer). We perform the t-test and see if it is worthy to continue.\n",
    "To perform the t-test, we will use the libraries in scipy and statsmodels."
   ]
  },
  {
   "cell_type": "code",
   "execution_count": 17,
   "id": "8e361fe3",
   "metadata": {},
   "outputs": [
    {
     "name": "stdout",
     "output_type": "stream",
     "text": [
      "Libraries imported!!!\n"
     ]
    }
   ],
   "source": [
    "# More libraries\n",
    "from scipy.stats import ttest_ind_from_stats\n",
    "from statsmodels.stats.weightstats import ttest_ind\n",
    "from scipy.special import stdtr\n",
    "\n",
    "print(\"Libraries imported!!!\")"
   ]
  },
  {
   "cell_type": "code",
   "execution_count": 18,
   "id": "3dc00da5",
   "metadata": {},
   "outputs": [
    {
     "name": "stdout",
     "output_type": "stream",
     "text": [
      "ttest_ind_from_stats for connection: t = 0.035404  p = 0.97183\n",
      "ttest_ind_from_stats for transfer: t = -1.97595  p = 0.0509721\n"
     ]
    }
   ],
   "source": [
    "# Use scipy.stats.ttest_ind_from_stats for connection.\n",
    "t1, p1 = stats.ttest_ind(df_0['connection_log'], df_1['connection_log'], equal_var=True)\n",
    "print(\"ttest_ind_from_stats for connection: t = %g  p = %g\" % (t1, p1))\n",
    "\n",
    "# Use scipy.stats.ttest_ind_from_stats for transfer.\n",
    "t2, p2 = stats.ttest_ind(df_0['transfer_log'], df_1['transfer_log'], equal_var=True)\n",
    "print(\"ttest_ind_from_stats for transfer: t = %g  p = %g\" % (t2, p2))"
   ]
  },
  {
   "cell_type": "markdown",
   "id": "0fbd9721",
   "metadata": {},
   "source": [
    "Only the difference in transfer is statistically significant, this results are obvious considering the way that were generated the data.\n",
    "Now using the ibrary statsmodel."
   ]
  },
  {
   "cell_type": "code",
   "execution_count": 20,
   "id": "a3b81b00",
   "metadata": {},
   "outputs": [
    {
     "data": {
      "text/plain": [
       "(0.035404032236310515, 0.9718295834390247, 98.0)"
      ]
     },
     "execution_count": 20,
     "metadata": {},
     "output_type": "execute_result"
    }
   ],
   "source": [
    "# Use ttest_ind from statsmodels.stats.weightstats\n",
    "\n",
    "ttest_ind(df_0['connection_log'].to_numpy(), df_1['connection_log'].to_numpy(), alternative='two-sided')"
   ]
  },
  {
   "cell_type": "code",
   "execution_count": 21,
   "id": "ad351301",
   "metadata": {},
   "outputs": [
    {
     "data": {
      "text/plain": [
       "(-1.9759509171153988, 0.05097205205756319, 98.0)"
      ]
     },
     "execution_count": 21,
     "metadata": {},
     "output_type": "execute_result"
    }
   ],
   "source": [
    "ttest_ind(df_0['transfer_log'].to_numpy(), df_1['transfer_log'].to_numpy(), alternative='two-sided')"
   ]
  },
  {
   "cell_type": "markdown",
   "id": "0909bc3f",
   "metadata": {},
   "source": [
    "As we can see, the results are the same using the two libraries. The difference in mean of the transfer is statistically significant, but don't in the connection variable.\n",
    "\n",
    "Taking the data of the 100 users, we will stimate the effect by regressing the outcome of interest variable (log of transfer speed), since this variable transformation accomplish with all of the constraints to use the regression, and using the indicator (newUI). Randomization ensures that the coefficient of newUI is an unbiased estimate of the causal effect."
   ]
  },
  {
   "cell_type": "code",
   "execution_count": 22,
   "id": "0a6d3a7a",
   "metadata": {},
   "outputs": [
    {
     "name": "stdout",
     "output_type": "stream",
     "text": [
      "Libraries Imported!!!\n"
     ]
    }
   ],
   "source": [
    "import statsmodels.formula.api as smf\n",
    "\n",
    "print(\"Libraries Imported!!!\")"
   ]
  },
  {
   "cell_type": "code",
   "execution_count": 23,
   "id": "ec909221",
   "metadata": {},
   "outputs": [
    {
     "data": {
      "text/html": [
       "<table class=\"simpletable\">\n",
       "<tr>\n",
       "      <td></td>         <th>coef</th>     <th>std err</th>      <th>t</th>      <th>P>|t|</th>  <th>[0.025</th>    <th>0.975]</th>  \n",
       "</tr>\n",
       "<tr>\n",
       "  <th>Intercept</th> <td>    2.3644</td> <td>    0.123</td> <td>   19.197</td> <td> 0.000</td> <td>    2.120</td> <td>    2.609</td>\n",
       "</tr>\n",
       "<tr>\n",
       "  <th>newUI</th>     <td>    0.3408</td> <td>    0.172</td> <td>    1.976</td> <td> 0.051</td> <td>   -0.001</td> <td>    0.683</td>\n",
       "</tr>\n",
       "</table>"
      ],
      "text/plain": [
       "<class 'statsmodels.iolib.table.SimpleTable'>"
      ]
     },
     "execution_count": 23,
     "metadata": {},
     "output_type": "execute_result"
    }
   ],
   "source": [
    "model = smf.ols('transfer_log ~ newUI', data=df).fit()\n",
    "model.summary().tables[1]"
   ]
  },
  {
   "cell_type": "markdown",
   "id": "ee65f438",
   "metadata": {},
   "source": [
    "Including in the model all variables, using log transformation."
   ]
  },
  {
   "cell_type": "code",
   "execution_count": 24,
   "id": "7164bbee",
   "metadata": {},
   "outputs": [
    {
     "data": {
      "text/html": [
       "<table class=\"simpletable\">\n",
       "<tr>\n",
       "         <td></td>           <th>coef</th>     <th>std err</th>      <th>t</th>      <th>P>|t|</th>  <th>[0.025</th>    <th>0.975]</th>  \n",
       "</tr>\n",
       "<tr>\n",
       "  <th>Intercept</th>      <td>    0.7267</td> <td>    0.226</td> <td>    3.220</td> <td> 0.002</td> <td>    0.279</td> <td>    1.175</td>\n",
       "</tr>\n",
       "<tr>\n",
       "  <th>newUI</th>          <td>    0.3447</td> <td>    0.134</td> <td>    2.564</td> <td> 0.012</td> <td>    0.078</td> <td>    0.611</td>\n",
       "</tr>\n",
       "<tr>\n",
       "  <th>connection_log</th> <td>    0.5346</td> <td>    0.067</td> <td>    8.018</td> <td> 0.000</td> <td>    0.402</td> <td>    0.667</td>\n",
       "</tr>\n",
       "</table>"
      ],
      "text/plain": [
       "<class 'statsmodels.iolib.table.SimpleTable'>"
      ]
     },
     "execution_count": 24,
     "metadata": {},
     "output_type": "execute_result"
    }
   ],
   "source": [
    "model = smf.ols('transfer_log ~ newUI + connection_log', data=df).fit()\n",
    "model.summary().tables[1]"
   ]
  },
  {
   "cell_type": "code",
   "execution_count": 25,
   "id": "3d997945",
   "metadata": {},
   "outputs": [
    {
     "data": {
      "text/plain": [
       "0     3.273557\n",
       "1     2.889103\n",
       "2     2.853740\n",
       "3     3.528476\n",
       "4     3.673529\n",
       "        ...   \n",
       "95    3.052836\n",
       "96    2.680839\n",
       "97    3.629891\n",
       "98    2.398276\n",
       "99    2.889994\n",
       "Length: 100, dtype: float64"
      ]
     },
     "execution_count": 25,
     "metadata": {},
     "output_type": "execute_result"
    }
   ],
   "source": [
    "# getting the prediction of the model\n",
    "ypred = model.fittedvalues\n",
    "ypred"
   ]
  },
  {
   "cell_type": "code",
   "execution_count": 26,
   "id": "58310c8a",
   "metadata": {},
   "outputs": [
    {
     "data": {
      "text/html": [
       "<div>\n",
       "<style scoped>\n",
       "    .dataframe tbody tr th:only-of-type {\n",
       "        vertical-align: middle;\n",
       "    }\n",
       "\n",
       "    .dataframe tbody tr th {\n",
       "        vertical-align: top;\n",
       "    }\n",
       "\n",
       "    .dataframe thead th {\n",
       "        text-align: right;\n",
       "    }\n",
       "</style>\n",
       "<table border=\"1\" class=\"dataframe\">\n",
       "  <thead>\n",
       "    <tr style=\"text-align: right;\">\n",
       "      <th></th>\n",
       "      <th>newUI</th>\n",
       "      <th>connection</th>\n",
       "      <th>transfer</th>\n",
       "      <th>connection_log</th>\n",
       "      <th>transfer_log</th>\n",
       "      <th>Transfer_log_pred</th>\n",
       "    </tr>\n",
       "  </thead>\n",
       "  <tbody>\n",
       "    <tr>\n",
       "      <th>0</th>\n",
       "      <td>0</td>\n",
       "      <td>117.22</td>\n",
       "      <td>5.85</td>\n",
       "      <td>4.764053</td>\n",
       "      <td>1.766442</td>\n",
       "      <td>3.273557</td>\n",
       "    </tr>\n",
       "    <tr>\n",
       "      <th>1</th>\n",
       "      <td>1</td>\n",
       "      <td>29.97</td>\n",
       "      <td>29.97</td>\n",
       "      <td>3.400197</td>\n",
       "      <td>3.400197</td>\n",
       "      <td>2.889103</td>\n",
       "    </tr>\n",
       "    <tr>\n",
       "      <th>2</th>\n",
       "      <td>0</td>\n",
       "      <td>53.45</td>\n",
       "      <td>7.36</td>\n",
       "      <td>3.978747</td>\n",
       "      <td>1.996060</td>\n",
       "      <td>2.853740</td>\n",
       "    </tr>\n",
       "    <tr>\n",
       "      <th>3</th>\n",
       "      <td>0</td>\n",
       "      <td>188.84</td>\n",
       "      <td>8.25</td>\n",
       "      <td>5.240900</td>\n",
       "      <td>2.110213</td>\n",
       "      <td>3.528476</td>\n",
       "    </tr>\n",
       "    <tr>\n",
       "      <th>4</th>\n",
       "      <td>1</td>\n",
       "      <td>130.00</td>\n",
       "      <td>28.35</td>\n",
       "      <td>4.867534</td>\n",
       "      <td>3.344627</td>\n",
       "      <td>3.673529</td>\n",
       "    </tr>\n",
       "  </tbody>\n",
       "</table>\n",
       "</div>"
      ],
      "text/plain": [
       "   newUI  connection  transfer  connection_log  transfer_log  \\\n",
       "0      0      117.22      5.85        4.764053      1.766442   \n",
       "1      1       29.97     29.97        3.400197      3.400197   \n",
       "2      0       53.45      7.36        3.978747      1.996060   \n",
       "3      0      188.84      8.25        5.240900      2.110213   \n",
       "4      1      130.00     28.35        4.867534      3.344627   \n",
       "\n",
       "   Transfer_log_pred  \n",
       "0           3.273557  \n",
       "1           2.889103  \n",
       "2           2.853740  \n",
       "3           3.528476  \n",
       "4           3.673529  "
      ]
     },
     "execution_count": 26,
     "metadata": {},
     "output_type": "execute_result"
    }
   ],
   "source": [
    "#Adding the prediction values to the dataframe\n",
    "df['Transfer_log_pred'] = ypred.tolist()\n",
    "df.head()"
   ]
  },
  {
   "cell_type": "markdown",
   "id": "c5e58d03",
   "metadata": {},
   "source": [
    "Comparing the values of coefficient for both models not change much, but the standard errors have decreased and the p-value is significantlly little.\n",
    "\n",
    "Now to review the error, we will plot the residual."
   ]
  },
  {
   "cell_type": "code",
   "execution_count": 27,
   "id": "a63390d2",
   "metadata": {},
   "outputs": [
    {
     "data": {
      "image/png": "[encoded data removed]",
      "text/plain": [
       "<Figure size 432x288 with 1 Axes>"
      ]
     },
     "metadata": {
      "needs_background": "light"
     },
     "output_type": "display_data"
    }
   ],
   "source": [
    "# To review the residual plot error between the predicted and the real values\n",
    "sns.residplot(x = \"transfer_log\", y = \"Transfer_log_pred\", data = df, lowess = True)\n",
    "plt.title('Model Residuals')\n",
    "plt.xlabel('Obsevation #')\n",
    "plt.ylabel('Error');"
   ]
  },
  {
   "cell_type": "markdown",
   "id": "2f7a4ca1",
   "metadata": {},
   "source": [
    "This plot show as the error is not homogenous, there are more errors in the little observations."
   ]
  },
  {
   "cell_type": "markdown",
   "id": "a8759472",
   "metadata": {},
   "source": [
    "<a id=\"item4\"></a>"
   ]
  },
  {
   "cell_type": "markdown",
   "id": "e1663f7a",
   "metadata": {},
   "source": [
    "### 4.- Random Forest model"
   ]
  },
  {
   "cell_type": "markdown",
   "id": "9773cd17",
   "metadata": {},
   "source": [
    "The Random Forest is a algorithm that use bootstrap to test different subsets of the data, searching to reduce the error of the model. In the way that we will use the algorithm, we add a function that allow to define a set of parameters and the function automatically will get the best combination to fit with the data, hoping that the result will be better than Lineal Regression."
   ]
  },
  {
   "cell_type": "code",
   "execution_count": 29,
   "id": "c501658b",
   "metadata": {},
   "outputs": [],
   "source": [
    "# Defining the x and y to use Random Forest\n",
    "x = np.asarray(df[['newUI', 'connection_log']])\n",
    "y = np.asarray(df[['transfer_log']])"
   ]
  },
  {
   "cell_type": "code",
   "execution_count": 31,
   "id": "b4d8efd2",
   "metadata": {},
   "outputs": [
    {
     "name": "stdout",
     "output_type": "stream",
     "text": [
      "{'n_estimators': [200, 400, 600, 800, 1000, 1200, 1400, 1600, 1800, 2000], 'max_features': ['auto', 'sqrt'], 'max_depth': [10, 20, 30, 40, 50, 60, 70, 80, 90, 100, 110, None], 'min_samples_split': [2, 5, 10], 'min_samples_leaf': [1, 2, 4], 'bootstrap': [True, False]}\n",
      "{'bootstrap': True, 'ccp_alpha': 0.0, 'criterion': 'mse', 'max_depth': None, 'max_features': 'auto', 'max_leaf_nodes': None, 'max_samples': None, 'min_impurity_decrease': 0.0, 'min_impurity_split': None, 'min_samples_leaf': 1, 'min_samples_split': 2, 'min_weight_fraction_leaf': 0.0, 'n_estimators': 100, 'n_jobs': None, 'oob_score': False, 'random_state': 42, 'verbose': 0, 'warm_start': False}\n",
      "Fitting 3 folds for each of 100 candidates, totalling 300 fits\n"
     ]
    },
    {
     "name": "stderr",
     "output_type": "stream",
     "text": [
      "C:\\Users\\ODIN\\anaconda3\\lib\\site-packages\\sklearn\\model_selection\\_search.py:880: DataConversionWarning: A column-vector y was passed when a 1d array was expected. Please change the shape of y to (n_samples,), for example using ravel().\n",
      "  self.best_estimator_.fit(X, y, **fit_params)\n"
     ]
    },
    {
     "name": "stdout",
     "output_type": "stream",
     "text": [
      "Model Performance\n",
      "Average Error: 0.8432 degrees.\n",
      "Accuracy = 55.21%.\n"
     ]
    }
   ],
   "source": [
    "from sklearn.ensemble import RandomForestRegressor\n",
    "from sklearn.model_selection import RandomizedSearchCV\n",
    "from sklearn.metrics import r2_score,mean_squared_error\n",
    "\n",
    "# Number of trees in random forest\n",
    "n_estimators = [int(x) for x in np.linspace(start = 200, stop = 2000, num = 10)]\n",
    "# Number of features to consider at every split\n",
    "max_features = ['auto', 'sqrt']\n",
    "# Maximum number of levels in tree\n",
    "max_depth = [int(x) for x in np.linspace(10, 110, num = 11)]\n",
    "max_depth.append(None)\n",
    "# Minimum number of samples required to split a node\n",
    "min_samples_split = [2, 5, 10]\n",
    "# Minimum number of samples required at each leaf node\n",
    "min_samples_leaf = [1, 2, 4]\n",
    "# Method of selecting samples for training each tree\n",
    "bootstrap = [True, False]\n",
    "\n",
    "# Create the random grid\n",
    "random_grid = {'n_estimators': n_estimators,\n",
    "               'max_features': max_features,\n",
    "               'max_depth': max_depth,\n",
    "               'min_samples_split': min_samples_split,\n",
    "               'min_samples_leaf': min_samples_leaf,\n",
    "               'bootstrap': bootstrap}\n",
    "\n",
    "print(random_grid)\n",
    "\n",
    "# Review the standard parametere\n",
    "rfr = RandomForestRegressor(random_state = 42)\n",
    "print(rfr.get_params())\n",
    "\n",
    "\n",
    "# Use the random grid to search for best hyperparameters\n",
    "rf_random = RandomizedSearchCV(estimator = rfr, param_distributions = random_grid, n_iter = 100, cv = 3, \n",
    "                               verbose=2, random_state=42, n_jobs = -1) # Fit the random search model\n",
    "model_RFCR = rf_random.fit(x, y)\n",
    "\n",
    "# To get the best parameters of the random forest\n",
    "rf_random.best_params_\n",
    "\n",
    "# Evaluating the base line with the best parameters found\n",
    "def evaluate(model, test_features, test_labels):\n",
    "    predictions = model.predict(test_features)\n",
    "    errors = abs(predictions - test_labels)\n",
    "    mape = 100 * np.mean(errors / test_labels)\n",
    "    accuracy = 100 - mape\n",
    "    print('Model Performance')\n",
    "    print('Average Error: {:0.4f} degrees.'.format(np.mean(errors)))\n",
    "    print('Accuracy = {:0.2f}%.'.format(accuracy))\n",
    "    \n",
    "    return accuracy\n",
    "\n",
    "# Random forest with the best parameters\n",
    "best_random = rf_random.best_estimator_\n",
    "random_accuracy = evaluate(best_random, x, y)"
   ]
  },
  {
   "cell_type": "code",
   "execution_count": 33,
   "id": "2f83db51",
   "metadata": {},
   "outputs": [
    {
     "name": "stdout",
     "output_type": "stream",
     "text": [
      "The R-square for LR is:  0.4097084959328946\n",
      "The MSE for LR is:  0.43812548494791065\n",
      "The R-square for RF is:  0.7080475113808651\n",
      "The MSE for RF is:  0.22116053168406904\n"
     ]
    }
   ],
   "source": [
    "LR_R2 = r2_score(y,ypred)\n",
    "LR_MSE = mean_squared_error(y,ypred)\n",
    "print('The R-square for LR is: ', model.rsquared_adj)\n",
    "print('The MSE for LR is: ', LR_MSE)\n",
    "yp = best_random.predict(x)\n",
    "RF_R2 = r2_score(y,yp)\n",
    "RF_MSE = mean_squared_error(y,yp)\n",
    "print('The R-square for RF is: ', RF_R2)\n",
    "print('The MSE for RF is: ', RF_MSE)"
   ]
  },
  {
   "cell_type": "markdown",
   "id": "98a95a59",
   "metadata": {},
   "source": [
    "The RF fitted better than LR, the relationship between the dependent variables and the independent variable are not lineal. Only the 41% of the variance of the dependent variable is explain by LR, while RF can explain 71%."
   ]
  },
  {
   "cell_type": "markdown",
   "id": "e3933a66",
   "metadata": {},
   "source": [
    "<a id=\"item5\"></a>"
   ]
  },
  {
   "cell_type": "markdown",
   "id": "844baca8",
   "metadata": {},
   "source": [
    "### 5.- Conclusions"
   ]
  },
  {
   "cell_type": "markdown",
   "id": "bb92d457",
   "metadata": {},
   "source": [
    "The A/B test is a helpfull tool to run experiments to decide the development to a campaing, products, retention policies, and of course decide if a tratment works or not. In our case we probe the difference of the transfer time is statistical significance, so the old and new UI conduct to the customers to get a different experience. But take care, the assumptions to perform the t-test must be met to get reliable results, if we fail to accomplished the test assumtions, the test to be perform is different and depent of the variables in the data.\n",
    "In other hand, when we develop a model the relationship between variables is crucial, the performance of the model depent of it, as we saw in our example."
   ]
  }
 ],
 "metadata": {
  "kernelspec": {
   "display_name": "Python 3 (ipykernel)",
   "language": "python",
   "name": "python3"
  },
  "language_info": {
   "codemirror_mode": {
    "name": "ipython",
    "version": 3
   },
   "file_extension": ".py",
   "mimetype": "text/x-python",
   "name": "python",
   "nbconvert_exporter": "python",
   "pygments_lexer": "ipython3",
   "version": "3.8.12"
  }
 },
 "nbformat": 4,
 "nbformat_minor": 5
}
